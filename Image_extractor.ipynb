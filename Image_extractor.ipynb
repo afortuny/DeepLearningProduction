{
  "nbformat": 4,
  "nbformat_minor": 0,
  "metadata": {
    "colab": {
      "provenance": [],
      "authorship_tag": "ABX9TyOFj/h1/Fbsj0a3n9D0iHa/",
      "include_colab_link": true
    },
    "kernelspec": {
      "name": "python3",
      "display_name": "Python 3"
    },
    "language_info": {
      "name": "python"
    },
    "accelerator": "GPU",
    "gpuClass": "standard"
  },
  "cells": [
    {
      "cell_type": "markdown",
      "metadata": {
        "id": "view-in-github",
        "colab_type": "text"
      },
      "source": [
        "<a href=\"https://colab.research.google.com/github/afortuny/DeepLearningProduction/blob/main/Image_extractor.ipynb\" target=\"_parent\"><img src=\"https://colab.research.google.com/assets/colab-badge.svg\" alt=\"Open In Colab\"/></a>"
      ]
    },
    {
      "cell_type": "code",
      "execution_count": 5,
      "metadata": {
        "colab": {
          "base_uri": "https://localhost:8080/"
        },
        "id": "VI4F4eNthuVL",
        "outputId": "1e719859-bc92-41e0-9698-b15eb32d76f4"
      },
      "outputs": [
        {
          "output_type": "stream",
          "name": "stdout",
          "text": [
            "Mounted at /content/gdrive\n"
          ]
        }
      ],
      "source": [
        "#hide \n",
        "!pip install -Uqq fastbook # remember to restart runtime every time you run this line\n",
        "import fastbook\n",
        "fastbook.setup_book()"
      ]
    },
    {
      "cell_type": "code",
      "source": [
        "#hide\n",
        "from fastbook import *\n",
        "from fastai.vision.widgets import *"
      ],
      "metadata": {
        "id": "2KRUAEwdhzcH"
      },
      "execution_count": 7,
      "outputs": []
    },
    {
      "cell_type": "code",
      "source": [
        "from bs4 import BeautifulSoup\n",
        "import os\n",
        "import requests\n",
        "import urllib\n",
        "import base64\n",
        "import re"
      ],
      "metadata": {
        "id": "gm_0G8twnR8Q"
      },
      "execution_count": 15,
      "outputs": []
    },
    {
      "cell_type": "code",
      "source": [
        "search_words = ['adidas running shoe', 'adidas train shoe', 'grey shoes', 'nike running shoes', 'shoes']"
      ],
      "metadata": {
        "id": "PryLB28tmBbc"
      },
      "execution_count": 10,
      "outputs": []
    },
    {
      "cell_type": "code",
      "source": [
        "img_dir = '/content/gdrive/MyDrive/Deep Learning Production/Images'"
      ],
      "metadata": {
        "id": "_zViqEmMmwbd"
      },
      "execution_count": 11,
      "outputs": []
    },
    {
      "cell_type": "code",
      "source": [
        "for word in search_words:\n",
        "  dir_path = img_dir + word\n",
        "  if not os.path.exists(dir_path):\n",
        "    os.makedirs(dir_path)"
      ],
      "metadata": {
        "id": "29sDM_Ihm33p"
      },
      "execution_count": 13,
      "outputs": []
    },
    {
      "cell_type": "code",
      "source": [
        "urlKeyword = urllib.parse.quote(word)"
      ],
      "metadata": {
        "id": "QIJVKlV9m73F"
      },
      "execution_count": 17,
      "outputs": []
    },
    {
      "cell_type": "code",
      "source": [
        "url = 'https://www.google.com/search?hl=jp&q=' + urlKeyword + '&btnG=Google+Search&tbs=0&safe=off&tbm=isch'"
      ],
      "metadata": {
        "id": "AnFkoGBSnbFp"
      },
      "execution_count": 19,
      "outputs": []
    },
    {
      "cell_type": "code",
      "source": [
        "headers = {\"User-Agent\": \"Mozilla/5.0 (X11; Ubuntu; Linux x86_64; rv:47.0) Gecko/20100101 Firefox/47.0\",}"
      ],
      "metadata": {
        "id": "H00sDs2cno3Z"
      },
      "execution_count": 20,
      "outputs": []
    },
    {
      "cell_type": "code",
      "source": [
        "r=requests.get(url, headers=headers)"
      ],
      "metadata": {
        "id": "GsJx1UlmnrGx"
      },
      "execution_count": 21,
      "outputs": []
    },
    {
      "cell_type": "code",
      "source": [
        "soup = BeautifulSoup(r.content, 'html.parser')"
      ],
      "metadata": {
        "id": "q9wXdWOenSDV"
      },
      "execution_count": 22,
      "outputs": []
    },
    {
      "cell_type": "markdown",
      "source": [
        "from bs4 import BeautifulSoup\n",
        "import os\n",
        "import requests\n",
        "import urllib\n",
        "import base64\n",
        "import re"
      ],
      "metadata": {
        "id": "ztXDh_Z1nOy0"
      }
    }
  ]
}